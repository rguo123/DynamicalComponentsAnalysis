{
 "cells": [
  {
   "cell_type": "code",
   "execution_count": 1,
   "metadata": {},
   "outputs": [],
   "source": [
    "import numpy as np\n",
    "from sklearn.linear_model import LinearRegression as LR\n",
    "from sklearn.decomposition import PCA\n",
    "from scipy.stats import special_ortho_group as sog\n",
    "\n",
    "from dca.cov_util import calc_cross_cov_mats_from_data\n",
    "from dca.data_util import CrossValidate, form_lag_matrix\n",
    "from dca.methods_comparison import SlowFeatureAnalysis as SFA\n",
    "from dca import DynamicalComponentsAnalysis\n",
    "\n",
    "import warnings\n",
    "warnings.simplefilter(action='ignore', category=FutureWarning)"
   ]
  },
  {
   "cell_type": "code",
   "execution_count": 2,
   "metadata": {},
   "outputs": [],
   "source": [
    "def linear_decode_r2(X_train, Y_train, X_test, Y_test, decoding_window=1, offset=0):\n",
    "    \"\"\"Train a linear model on the training set and test on the test set.\n",
    "    This will work with batched training data and/or batched test data.\n",
    "    \"\"\"\n",
    "\n",
    "    if isinstance(X_train, np.ndarray) and X_train.ndim == 2:\n",
    "        X_train = [X_train]\n",
    "    if isinstance(Y_train, np.ndarray) and Y_train.ndim == 2:\n",
    "        Y_train = [Y_train]\n",
    "\n",
    "    if isinstance(X_test, np.ndarray) and X_test.ndim == 2:\n",
    "        X_test = [X_test]\n",
    "    if isinstance(Y_test, np.ndarray) and Y_test.ndim == 2:\n",
    "        Y_test = [Y_test]\n",
    "\n",
    "    X_train_lags = [form_lag_matrix(Xi, decoding_window) for Xi in X_train]\n",
    "    X_test_lags = [form_lag_matrix(Xi, decoding_window) for Xi in X_test]\n",
    "\n",
    "    Y_train = [Yi[decoding_window // 2:] for Yi in Y_train]\n",
    "    Y_train = [Yi[:len(Xi)] for Yi, Xi in zip(Y_train, X_train_lags)]\n",
    "    if offset >= 0:\n",
    "        Y_train = [Yi[offset:] for Yi in Y_train]\n",
    "    else:\n",
    "        Y_train = [Yi[:Yi.shape[0] + offset] for Yi in Y_train]\n",
    "\n",
    "    Y_test = [Yi[decoding_window // 2:] for Yi in Y_test]\n",
    "    Y_test = [Yi[:len(Xi)] for Yi, Xi in zip(Y_test, X_test_lags)]\n",
    "    if offset >= 0:\n",
    "        Y_test = [Yi[offset:] for Yi in Y_test]\n",
    "    else:\n",
    "        Y_test = [Yi[:Yi.shape[0] + offset] for Yi in Y_test]\n",
    "\n",
    "    if offset >= 0:\n",
    "        X_train_lags = [Xi[:Xi.shape[0] - offset] for Xi in X_train_lags]\n",
    "        X_test_lags = [Xi[:Xi.shape[0] - offset] for Xi in X_test_lags]\n",
    "    else:\n",
    "        X_train_lags = [Xi[-offset:] for Xi in X_train_lags]\n",
    "        X_test_lags = [Xi[-offset:] for Xi in X_test_lags]\n",
    "\n",
    "    if len(X_train_lags) == 1:\n",
    "        X_train_lags = X_train_lags[0]\n",
    "    else:\n",
    "        X_train_lags = np.concatenate(X_train_lags)\n",
    "\n",
    "    if len(Y_train) == 1:\n",
    "        Y_train = Y_train[0]\n",
    "    else:\n",
    "        Y_train = np.concatenate(Y_train)\n",
    "\n",
    "    if len(X_test_lags) == 1:\n",
    "        X_test_lags = X_test_lags[0]\n",
    "    else:\n",
    "        X_test_lags = np.concatenate(X_test_lags)\n",
    "\n",
    "    if len(Y_test) == 1:\n",
    "        Y_test = Y_test[0]\n",
    "    else:\n",
    "        Y_test = np.concatenate(Y_test)\n",
    "\n",
    "    model = LR().fit(X_train_lags, Y_train)\n",
    "    r2 = model.score(X_test_lags, Y_test)\n",
    "    return r2\n"
   ]
  },
  {
   "cell_type": "code",
   "execution_count": 3,
   "metadata": {},
   "outputs": [],
   "source": [
    "X_train = np.random.rand(100, 10)\n",
    "Y_train = np.random.rand(100, 10)\n",
    "\n",
    "X_test = np.random.rand(100, 10)\n",
    "Y_test = np.random.rand(100, 10)\n"
   ]
  },
  {
   "cell_type": "code",
   "execution_count": 4,
   "metadata": {},
   "outputs": [
    {
     "data": {
      "text/plain": [
       "-0.12189328627746142"
      ]
     },
     "execution_count": 4,
     "metadata": {},
     "output_type": "execute_result"
    }
   ],
   "source": [
    "linear_decode_r2(X_train, Y_train, X_test, Y_test)"
   ]
  },
  {
   "cell_type": "markdown",
   "metadata": {},
   "source": [
    "# TODO:\n",
    "\n",
    "1. Get DMD, DCA, and JPCA functions\n",
    "2. Split conditions into training and test\n",
    "3. Run through R^2 pipeline\n",
    "4. Get pretty plots"
   ]
  },
  {
   "cell_type": "code",
   "execution_count": 5,
   "metadata": {},
   "outputs": [],
   "source": [
    "from dca import DynamicalComponentsAnalysis\n",
    "from dca.methods_comparison import JPCA\n",
    "from pydmd import DMD"
   ]
  },
  {
   "cell_type": "code",
   "execution_count": 6,
   "metadata": {},
   "outputs": [],
   "source": [
    "from scipy.io import loadmat\n",
    "\n",
    "x = loadmat(\"../data/exampleData.mat\")"
   ]
  },
  {
   "cell_type": "code",
   "execution_count": 27,
   "metadata": {},
   "outputs": [],
   "source": [
    "X = x['Data']\n",
    "X = X.flatten()\n",
    "# leave a third for testing\n",
    "test_train_identifier = np.random.choice(2, 108, p=[.67, .33])\n",
    "\n",
    "conditions_train = []\n",
    "time_train = []\n",
    "\n",
    "conditions_test = []\n",
    "time_test = []\n",
    "\n",
    "for i in range(108):\n",
    "    if test_train_identifier[i] == 0:\n",
    "        conditions_train.append(X[i][0])\n",
    "        time_test.append(X[i][1])\n",
    "    else:\n",
    "        conditions_test.append(X[i][0])\n",
    "        time_test.append(X[i][1])"
   ]
  },
  {
   "cell_type": "code",
   "execution_count": 29,
   "metadata": {},
   "outputs": [
    {
     "data": {
      "text/plain": [
       "(70, 61, 218)"
      ]
     },
     "execution_count": 29,
     "metadata": {},
     "output_type": "execute_result"
    }
   ],
   "source": [
    "conditions_train = np.array(conditions_train)\n",
    "conditions_test = np.array(conditions_test)\n",
    "conditions_train.shape"
   ]
  },
  {
   "cell_type": "code",
   "execution_count": 84,
   "metadata": {},
   "outputs": [],
   "source": [
    "def compare_methods_r2(X_train, Y_train, X_test, Y_test, lag=None, d=2):\n",
    "    X_mean = np.concatenate(X_train).mean(axis=0, keepdims=True)\n",
    "    X_train_ctd = np.array([Xi - X_mean for Xi in X_train])\n",
    "    X_test_ctd = X_test - X_mean\n",
    "    Y_mean = np.concatenate(Y_train).mean(axis=0, keepdims=True)\n",
    "    Y_train_ctd = np.array([Yi - Y_mean for Yi in Y_train])\n",
    "    Y_test_ctd = Y_test - Y_mean\n",
    "    \n",
    "    jpca = JPCA(n_components=d)\n",
    "    dca = DynamicalComponentsAnalysis(d=d, T=3)\n",
    "    dmd = DMD()\n",
    "    pca = PCA(n_components=d)\n",
    "    \n",
    "    pca.fit(X_train_ctd)\n",
    "    jpca.fit(X_train_ctd)\n",
    "    dca.fit(X_train_ctd)\n",
    "    dmd.fit(np.vstack(X_train_ctd).T)\n",
    "    X_train_jpca = jpca.transform(X_train_ctd)\n",
    "    X_test_jpca = jpca.transform(X_test_ctd)\n",
    "    X_train_dca = dca.transform(X_train_ctd)\n",
    "    X_test_dca = dca.transform(X_test_ctd)\n",
    "    X_train_dmd = dmd.predict(np.vstack(X_train_ctd).T).T\n",
    "    X_test_dmd = dmd.predict(np.vstack(X_test_ctd).T).T\n",
    "    print(X_train_dmd.shape)\n",
    "    print(\"jpca: \", linear_decode_r2(X_train_jpca, Y_train_ctd, X_test_jpca, Y_test_ctd))\n",
    "    print(\"dca: \", linear_decode_r2(X_train_dca, Y_train_ctd, X_test_dca, Y_test_ctd))\n",
    "    \n",
    "    "
   ]
  },
  {
   "cell_type": "code",
   "execution_count": 85,
   "metadata": {
    "scrolled": true
   },
   "outputs": [
    {
     "ename": "ValueError",
     "evalue": "Found array with dim 3. Estimator expected <= 2.",
     "output_type": "error",
     "traceback": [
      "\u001b[0;31m---------------------------------------------------------------------------\u001b[0m",
      "\u001b[0;31mValueError\u001b[0m                                Traceback (most recent call last)",
      "\u001b[0;32m<ipython-input-85-388d0ad741af>\u001b[0m in \u001b[0;36m<module>\u001b[0;34m\u001b[0m\n\u001b[0;32m----> 1\u001b[0;31m \u001b[0mcompare_methods_r2\u001b[0m\u001b[0;34m(\u001b[0m\u001b[0mconditions_train\u001b[0m\u001b[0;34m,\u001b[0m \u001b[0mconditions_train\u001b[0m\u001b[0;34m,\u001b[0m \u001b[0mconditions_test\u001b[0m\u001b[0;34m,\u001b[0m \u001b[0mconditions_test\u001b[0m\u001b[0;34m)\u001b[0m\u001b[0;34m\u001b[0m\u001b[0;34m\u001b[0m\u001b[0m\n\u001b[0m",
      "\u001b[0;32m<ipython-input-84-476c9b9932b6>\u001b[0m in \u001b[0;36mcompare_methods_r2\u001b[0;34m(X_train, Y_train, X_test, Y_test, lag, d)\u001b[0m\n\u001b[1;32m     12\u001b[0m     \u001b[0mpca\u001b[0m \u001b[0;34m=\u001b[0m \u001b[0mPCA\u001b[0m\u001b[0;34m(\u001b[0m\u001b[0mn_components\u001b[0m\u001b[0;34m=\u001b[0m\u001b[0md\u001b[0m\u001b[0;34m)\u001b[0m\u001b[0;34m\u001b[0m\u001b[0;34m\u001b[0m\u001b[0m\n\u001b[1;32m     13\u001b[0m \u001b[0;34m\u001b[0m\u001b[0m\n\u001b[0;32m---> 14\u001b[0;31m     \u001b[0mpca\u001b[0m\u001b[0;34m.\u001b[0m\u001b[0mfit\u001b[0m\u001b[0;34m(\u001b[0m\u001b[0mX_train_ctd\u001b[0m\u001b[0;34m)\u001b[0m\u001b[0;34m\u001b[0m\u001b[0;34m\u001b[0m\u001b[0m\n\u001b[0m\u001b[1;32m     15\u001b[0m     \u001b[0mjpca\u001b[0m\u001b[0;34m.\u001b[0m\u001b[0mfit\u001b[0m\u001b[0;34m(\u001b[0m\u001b[0mX_train_ctd\u001b[0m\u001b[0;34m)\u001b[0m\u001b[0;34m\u001b[0m\u001b[0;34m\u001b[0m\u001b[0m\n\u001b[1;32m     16\u001b[0m     \u001b[0mdca\u001b[0m\u001b[0;34m.\u001b[0m\u001b[0mfit\u001b[0m\u001b[0;34m(\u001b[0m\u001b[0mX_train_ctd\u001b[0m\u001b[0;34m)\u001b[0m\u001b[0;34m\u001b[0m\u001b[0;34m\u001b[0m\u001b[0m\n",
      "\u001b[0;32m~/anaconda3/envs/workenv/lib/python3.8/site-packages/sklearn/decomposition/_pca.py\u001b[0m in \u001b[0;36mfit\u001b[0;34m(self, X, y)\u001b[0m\n\u001b[1;32m    342\u001b[0m             \u001b[0mReturns\u001b[0m \u001b[0mthe\u001b[0m \u001b[0minstance\u001b[0m \u001b[0mitself\u001b[0m\u001b[0;34m.\u001b[0m\u001b[0;34m\u001b[0m\u001b[0;34m\u001b[0m\u001b[0m\n\u001b[1;32m    343\u001b[0m         \"\"\"\n\u001b[0;32m--> 344\u001b[0;31m         \u001b[0mself\u001b[0m\u001b[0;34m.\u001b[0m\u001b[0m_fit\u001b[0m\u001b[0;34m(\u001b[0m\u001b[0mX\u001b[0m\u001b[0;34m)\u001b[0m\u001b[0;34m\u001b[0m\u001b[0;34m\u001b[0m\u001b[0m\n\u001b[0m\u001b[1;32m    345\u001b[0m         \u001b[0;32mreturn\u001b[0m \u001b[0mself\u001b[0m\u001b[0;34m\u001b[0m\u001b[0;34m\u001b[0m\u001b[0m\n\u001b[1;32m    346\u001b[0m \u001b[0;34m\u001b[0m\u001b[0m\n",
      "\u001b[0;32m~/anaconda3/envs/workenv/lib/python3.8/site-packages/sklearn/decomposition/_pca.py\u001b[0m in \u001b[0;36m_fit\u001b[0;34m(self, X)\u001b[0m\n\u001b[1;32m    388\u001b[0m                             'TruncatedSVD for a possible alternative.')\n\u001b[1;32m    389\u001b[0m \u001b[0;34m\u001b[0m\u001b[0m\n\u001b[0;32m--> 390\u001b[0;31m         X = check_array(X, dtype=[np.float64, np.float32], ensure_2d=True,\n\u001b[0m\u001b[1;32m    391\u001b[0m                         copy=self.copy)\n\u001b[1;32m    392\u001b[0m \u001b[0;34m\u001b[0m\u001b[0m\n",
      "\u001b[0;32m~/anaconda3/envs/workenv/lib/python3.8/site-packages/sklearn/utils/validation.py\u001b[0m in \u001b[0;36mcheck_array\u001b[0;34m(array, accept_sparse, accept_large_sparse, dtype, order, copy, force_all_finite, ensure_2d, allow_nd, ensure_min_samples, ensure_min_features, warn_on_dtype, estimator)\u001b[0m\n\u001b[1;32m    571\u001b[0m             \u001b[0marray\u001b[0m \u001b[0;34m=\u001b[0m \u001b[0marray\u001b[0m\u001b[0;34m.\u001b[0m\u001b[0mastype\u001b[0m\u001b[0;34m(\u001b[0m\u001b[0mnp\u001b[0m\u001b[0;34m.\u001b[0m\u001b[0mfloat64\u001b[0m\u001b[0;34m)\u001b[0m\u001b[0;34m\u001b[0m\u001b[0;34m\u001b[0m\u001b[0m\n\u001b[1;32m    572\u001b[0m         \u001b[0;32mif\u001b[0m \u001b[0;32mnot\u001b[0m \u001b[0mallow_nd\u001b[0m \u001b[0;32mand\u001b[0m \u001b[0marray\u001b[0m\u001b[0;34m.\u001b[0m\u001b[0mndim\u001b[0m \u001b[0;34m>=\u001b[0m \u001b[0;36m3\u001b[0m\u001b[0;34m:\u001b[0m\u001b[0;34m\u001b[0m\u001b[0;34m\u001b[0m\u001b[0m\n\u001b[0;32m--> 573\u001b[0;31m             raise ValueError(\"Found array with dim %d. %s expected <= 2.\"\n\u001b[0m\u001b[1;32m    574\u001b[0m                              % (array.ndim, estimator_name))\n\u001b[1;32m    575\u001b[0m \u001b[0;34m\u001b[0m\u001b[0m\n",
      "\u001b[0;31mValueError\u001b[0m: Found array with dim 3. Estimator expected <= 2."
     ]
    }
   ],
   "source": [
    "compare_methods_r2(conditions_train, conditions_train, conditions_test, conditions_test)"
   ]
  },
  {
   "cell_type": "code",
   "execution_count": null,
   "metadata": {},
   "outputs": [],
   "source": []
  }
 ],
 "metadata": {
  "kernelspec": {
   "display_name": "Python 3",
   "language": "python",
   "name": "python3"
  },
  "language_info": {
   "codemirror_mode": {
    "name": "ipython",
    "version": 3
   },
   "file_extension": ".py",
   "mimetype": "text/x-python",
   "name": "python",
   "nbconvert_exporter": "python",
   "pygments_lexer": "ipython3",
   "version": "3.8.1"
  }
 },
 "nbformat": 4,
 "nbformat_minor": 4
}
