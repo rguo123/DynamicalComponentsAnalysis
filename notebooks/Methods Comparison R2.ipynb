{
 "cells": [
  {
   "cell_type": "code",
   "execution_count": 1,
   "metadata": {},
   "outputs": [],
   "source": [
    "import numpy as np\n",
    "from sklearn.linear_model import LinearRegression as LR\n",
    "from sklearn.decomposition import PCA\n",
    "from scipy.stats import special_ortho_group as sog\n",
    "\n",
    "from dca.cov_util import calc_cross_cov_mats_from_data\n",
    "from dca.data_util import CrossValidate, form_lag_matrix\n",
    "from dca.methods_comparison import SlowFeatureAnalysis as SFA\n",
    "from dca import DynamicalComponentsAnalysis\n",
    "\n",
    "import warnings\n",
    "warnings.simplefilter(action='ignore', category=FutureWarning)"
   ]
  },
  {
   "cell_type": "code",
   "execution_count": 53,
   "metadata": {},
   "outputs": [],
   "source": [
    "from matplotlib import pyplot as plt"
   ]
  },
  {
   "cell_type": "code",
   "execution_count": 2,
   "metadata": {},
   "outputs": [],
   "source": [
    "def linear_decode_r2(X_train, Y_train, X_test, Y_test, decoding_window=1, offset=0):\n",
    "    \"\"\"Train a linear model on the training set and test on the test set.\n",
    "    This will work with batched training data and/or batched test data.\n",
    "    \"\"\"\n",
    "\n",
    "    if isinstance(X_train, np.ndarray) and X_train.ndim == 2:\n",
    "        X_train = [X_train]\n",
    "    if isinstance(Y_train, np.ndarray) and Y_train.ndim == 2:\n",
    "        Y_train = [Y_train]\n",
    "\n",
    "    if isinstance(X_test, np.ndarray) and X_test.ndim == 2:\n",
    "        X_test = [X_test]\n",
    "    if isinstance(Y_test, np.ndarray) and Y_test.ndim == 2:\n",
    "        Y_test = [Y_test]\n",
    "\n",
    "    X_train_lags = [form_lag_matrix(Xi, decoding_window) for Xi in X_train]\n",
    "    X_test_lags = [form_lag_matrix(Xi, decoding_window) for Xi in X_test]\n",
    "\n",
    "    Y_train = [Yi[decoding_window // 2:] for Yi in Y_train]\n",
    "    Y_train = [Yi[:len(Xi)] for Yi, Xi in zip(Y_train, X_train_lags)]\n",
    "    if offset >= 0:\n",
    "        Y_train = [Yi[offset:] for Yi in Y_train]\n",
    "    else:\n",
    "        Y_train = [Yi[:Yi.shape[0] + offset] for Yi in Y_train]\n",
    "\n",
    "    Y_test = [Yi[decoding_window // 2:] for Yi in Y_test]\n",
    "    Y_test = [Yi[:len(Xi)] for Yi, Xi in zip(Y_test, X_test_lags)]\n",
    "    if offset >= 0:\n",
    "        Y_test = [Yi[offset:] for Yi in Y_test]\n",
    "    else:\n",
    "        Y_test = [Yi[:Yi.shape[0] + offset] for Yi in Y_test]\n",
    "\n",
    "    if offset >= 0:\n",
    "        X_train_lags = [Xi[:Xi.shape[0] - offset] for Xi in X_train_lags]\n",
    "        X_test_lags = [Xi[:Xi.shape[0] - offset] for Xi in X_test_lags]\n",
    "    else:\n",
    "        X_train_lags = [Xi[-offset:] for Xi in X_train_lags]\n",
    "        X_test_lags = [Xi[-offset:] for Xi in X_test_lags]\n",
    "\n",
    "    if len(X_train_lags) == 1:\n",
    "        X_train_lags = X_train_lags[0]\n",
    "    else:\n",
    "        X_train_lags = np.concatenate(X_train_lags)\n",
    "\n",
    "    if len(Y_train) == 1:\n",
    "        Y_train = Y_train[0]\n",
    "    else:\n",
    "        Y_train = np.concatenate(Y_train)\n",
    "\n",
    "    if len(X_test_lags) == 1:\n",
    "        X_test_lags = X_test_lags[0]\n",
    "    else:\n",
    "        X_test_lags = np.concatenate(X_test_lags)\n",
    "\n",
    "    if len(Y_test) == 1:\n",
    "        Y_test = Y_test[0]\n",
    "    else:\n",
    "        Y_test = np.concatenate(Y_test)\n",
    "\n",
    "    model = LR().fit(X_train_lags, Y_train)\n",
    "    r2 = model.score(X_test_lags, Y_test)\n",
    "    return r2\n"
   ]
  },
  {
   "cell_type": "code",
   "execution_count": 3,
   "metadata": {},
   "outputs": [],
   "source": [
    "X_train = np.random.rand(100, 10)\n",
    "Y_train = np.random.rand(100, 10)\n",
    "\n",
    "X_test = np.random.rand(100, 10)\n",
    "Y_test = np.random.rand(100, 10)\n"
   ]
  },
  {
   "cell_type": "code",
   "execution_count": 4,
   "metadata": {},
   "outputs": [
    {
     "data": {
      "text/plain": [
       "-0.1058145442132264"
      ]
     },
     "execution_count": 4,
     "metadata": {},
     "output_type": "execute_result"
    }
   ],
   "source": [
    "linear_decode_r2(X_train, Y_train, X_test, Y_test)"
   ]
  },
  {
   "cell_type": "markdown",
   "metadata": {},
   "source": [
    "# TODO:\n",
    "\n",
    "1. Get DMD, DCA, and JPCA functions\n",
    "2. Split conditions into training and test\n",
    "3. Run through R^2 pipeline\n",
    "4. Get pretty plots"
   ]
  },
  {
   "cell_type": "code",
   "execution_count": 5,
   "metadata": {},
   "outputs": [],
   "source": [
    "from dca import DynamicalComponentsAnalysis\n",
    "from dca.methods_comparison import JPCA\n",
    "from pydmd import DMD"
   ]
  },
  {
   "cell_type": "code",
   "execution_count": 6,
   "metadata": {},
   "outputs": [],
   "source": [
    "from scipy.io import loadmat\n",
    "\n",
    "x = loadmat(\"../data/exampleData.mat\")"
   ]
  },
  {
   "cell_type": "code",
   "execution_count": 48,
   "metadata": {},
   "outputs": [],
   "source": [
    "X = x['Data']\n",
    "X = X.flatten()\n",
    "# leave a third for testing\n",
    "def split_train_test(X):\n",
    "    test_train_identifier = np.random.choice(2, 108, p=[.67, .33])\n",
    "\n",
    "    conditions_train = []\n",
    "    time_train = []\n",
    "\n",
    "    conditions_test = []\n",
    "    time_test = []\n",
    "\n",
    "    for i in range(108):\n",
    "        if test_train_identifier[i] == 0:\n",
    "            conditions_train.append(X[i][0])\n",
    "            time_test.append(X[i][1])\n",
    "        else:\n",
    "            conditions_test.append(X[i][0])\n",
    "            time_test.append(X[i][1])\n",
    "    return np.array(conditions_train), np.array(conditions_test)"
   ]
  },
  {
   "cell_type": "code",
   "execution_count": 49,
   "metadata": {},
   "outputs": [
    {
     "data": {
      "text/plain": [
       "(73, 61, 218)"
      ]
     },
     "execution_count": 49,
     "metadata": {},
     "output_type": "execute_result"
    }
   ],
   "source": [
    "conditions_train, conditions_test = split_train_test(X)\n",
    "conditions_train.shape"
   ]
  },
  {
   "cell_type": "code",
   "execution_count": 29,
   "metadata": {},
   "outputs": [],
   "source": [
    "def compare_methods_r2(X_train, Y_train, X_test, Y_test, d=2, decoding_window=1, offset=1):\n",
    "    X_mean = np.concatenate(X_train).mean(axis=0, keepdims=True)\n",
    "    X_train_ctd = np.array([Xi - X_mean for Xi in X_train])\n",
    "    X_test_ctd = X_test - X_mean\n",
    "    Y_mean = np.concatenate(Y_train).mean(axis=0, keepdims=True)\n",
    "    Y_train_ctd = np.array([Yi - Y_mean for Yi in Y_train])\n",
    "    Y_test_ctd = Y_test - Y_mean\n",
    "    \n",
    "    # Initiate methods\n",
    "    jpca = JPCA(n_components=d)\n",
    "    dca = DynamicalComponentsAnalysis(d=d, T=3)\n",
    "    dmd = DMD(svd_rank=d)\n",
    "    pca = PCA(n_components=d)\n",
    "    \n",
    "    # Run methods on training data\n",
    "    pca.fit(np.vstack(X_train_ctd))\n",
    "    jpca.fit(X_train_ctd)\n",
    "    dca.fit(X_train_ctd)\n",
    "    # dmd uses columns as features\n",
    "    dmd.fit(np.vstack(X_train_ctd).T)\n",
    "    \n",
    "    # Transform data with fit models\n",
    "    \n",
    "    X_train_pca = [pca.transform(Xi) for Xi in X_train_ctd]\n",
    "    X_test_pca = [pca.transform(Xi) for Xi in X_test_ctd]\n",
    "    \n",
    "    X_train_jpca = jpca.transform(X_train_ctd)\n",
    "    X_test_jpca = jpca.transform(X_test_ctd)\n",
    "    \n",
    "    X_train_dca = dca.transform(X_train_ctd)\n",
    "    X_test_dca = dca.transform(X_test_ctd)\n",
    "    \n",
    "    X_train_dmd = X_train_ctd @ dmd._modes\n",
    "    X_test_dmd = X_test_ctd @ dmd._modes\n",
    "    \n",
    "    pca_score = linear_decode_r2(X_train_pca, Y_train_ctd, X_test_pca, Y_test_ctd, \n",
    "                                 decoding_window=decoding_window,\n",
    "                                 offset=offset)\n",
    "    jpca_score = linear_decode_r2(X_train_jpca, Y_train_ctd, X_test_jpca, Y_test_ctd, \n",
    "                                 decoding_window=decoding_window,\n",
    "                                 offset=offset)\n",
    "    dca_score = linear_decode_r2(X_train_dca, Y_train_ctd, X_test_dca, Y_test_ctd, \n",
    "                                 decoding_window=decoding_window,\n",
    "                                 offset=offset)\n",
    "    dmd_score = linear_decode_r2(X_train_dmd, Y_train_ctd, X_test_dmd, Y_test_ctd, \n",
    "                                 decoding_window=decoding_window,\n",
    "                                 offset=offset)\n",
    "    \n",
    "    return pca_score, jpca_score, dca_score, dmd_score\n",
    "    "
   ]
  },
  {
   "cell_type": "code",
   "execution_count": 50,
   "metadata": {
    "scrolled": true
   },
   "outputs": [
    {
     "name": "stdout",
     "output_type": "stream",
     "text": [
      "Warning: non-PSD matrix (had to increase eigenvalues)\n"
     ]
    },
    {
     "name": "stderr",
     "output_type": "stream",
     "text": [
      "/home/rguo/work/churchland/dca/rguo/DynamicalComponentsAnalysis/dca/data_util.py:16: ComplexWarning: Casting complex values to real discards the imaginary part\n",
      "  X_with_lags[i, :] = X[i * stride:i * stride + T, :].flatten()\n"
     ]
    },
    {
     "data": {
      "text/plain": [
       "(0.6928114382151387,\n",
       " 0.27143950647804654,\n",
       " 0.5364595342893868,\n",
       " 0.4560290390810042)"
      ]
     },
     "execution_count": 50,
     "metadata": {},
     "output_type": "execute_result"
    }
   ],
   "source": [
    "compare_methods_r2(conditions_train, conditions_train, conditions_test, conditions_test, d=6, offset=1)"
   ]
  },
  {
   "cell_type": "code",
   "execution_count": 51,
   "metadata": {},
   "outputs": [
    {
     "name": "stdout",
     "output_type": "stream",
     "text": [
      "Warning: non-PSD matrix (had to increase eigenvalues)\n"
     ]
    },
    {
     "name": "stderr",
     "output_type": "stream",
     "text": [
      "/home/rguo/work/churchland/dca/rguo/DynamicalComponentsAnalysis/dca/data_util.py:16: ComplexWarning: Casting complex values to real discards the imaginary part\n",
      "  X_with_lags[i, :] = X[i * stride:i * stride + T, :].flatten()\n"
     ]
    },
    {
     "name": "stdout",
     "output_type": "stream",
     "text": [
      "Warning: non-PSD matrix (had to increase eigenvalues)\n"
     ]
    },
    {
     "name": "stderr",
     "output_type": "stream",
     "text": [
      "/home/rguo/work/churchland/dca/rguo/DynamicalComponentsAnalysis/dca/data_util.py:16: ComplexWarning: Casting complex values to real discards the imaginary part\n",
      "  X_with_lags[i, :] = X[i * stride:i * stride + T, :].flatten()\n"
     ]
    },
    {
     "name": "stdout",
     "output_type": "stream",
     "text": [
      "Warning: non-PSD matrix (had to increase eigenvalues)\n"
     ]
    },
    {
     "name": "stderr",
     "output_type": "stream",
     "text": [
      "/home/rguo/work/churchland/dca/rguo/DynamicalComponentsAnalysis/dca/data_util.py:16: ComplexWarning: Casting complex values to real discards the imaginary part\n",
      "  X_with_lags[i, :] = X[i * stride:i * stride + T, :].flatten()\n"
     ]
    },
    {
     "name": "stdout",
     "output_type": "stream",
     "text": [
      "Warning: non-PSD matrix (had to increase eigenvalues)\n"
     ]
    },
    {
     "name": "stderr",
     "output_type": "stream",
     "text": [
      "/home/rguo/work/churchland/dca/rguo/DynamicalComponentsAnalysis/dca/data_util.py:16: ComplexWarning: Casting complex values to real discards the imaginary part\n",
      "  X_with_lags[i, :] = X[i * stride:i * stride + T, :].flatten()\n"
     ]
    },
    {
     "name": "stdout",
     "output_type": "stream",
     "text": [
      "Warning: non-PSD matrix (had to increase eigenvalues)\n"
     ]
    },
    {
     "name": "stderr",
     "output_type": "stream",
     "text": [
      "/home/rguo/work/churchland/dca/rguo/DynamicalComponentsAnalysis/dca/data_util.py:16: ComplexWarning: Casting complex values to real discards the imaginary part\n",
      "  X_with_lags[i, :] = X[i * stride:i * stride + T, :].flatten()\n"
     ]
    },
    {
     "name": "stdout",
     "output_type": "stream",
     "text": [
      "Warning: non-PSD matrix (had to increase eigenvalues)\n"
     ]
    },
    {
     "name": "stderr",
     "output_type": "stream",
     "text": [
      "/home/rguo/work/churchland/dca/rguo/DynamicalComponentsAnalysis/dca/data_util.py:16: ComplexWarning: Casting complex values to real discards the imaginary part\n",
      "  X_with_lags[i, :] = X[i * stride:i * stride + T, :].flatten()\n"
     ]
    },
    {
     "name": "stdout",
     "output_type": "stream",
     "text": [
      "Warning: non-PSD matrix (had to increase eigenvalues)\n"
     ]
    },
    {
     "name": "stderr",
     "output_type": "stream",
     "text": [
      "/home/rguo/work/churchland/dca/rguo/DynamicalComponentsAnalysis/dca/data_util.py:16: ComplexWarning: Casting complex values to real discards the imaginary part\n",
      "  X_with_lags[i, :] = X[i * stride:i * stride + T, :].flatten()\n"
     ]
    },
    {
     "name": "stdout",
     "output_type": "stream",
     "text": [
      "Warning: non-PSD matrix (had to increase eigenvalues)\n"
     ]
    },
    {
     "name": "stderr",
     "output_type": "stream",
     "text": [
      "/home/rguo/work/churchland/dca/rguo/DynamicalComponentsAnalysis/dca/data_util.py:16: ComplexWarning: Casting complex values to real discards the imaginary part\n",
      "  X_with_lags[i, :] = X[i * stride:i * stride + T, :].flatten()\n"
     ]
    },
    {
     "name": "stdout",
     "output_type": "stream",
     "text": [
      "Warning: non-PSD matrix (had to increase eigenvalues)\n"
     ]
    },
    {
     "name": "stderr",
     "output_type": "stream",
     "text": [
      "/home/rguo/work/churchland/dca/rguo/DynamicalComponentsAnalysis/dca/data_util.py:16: ComplexWarning: Casting complex values to real discards the imaginary part\n",
      "  X_with_lags[i, :] = X[i * stride:i * stride + T, :].flatten()\n"
     ]
    }
   ],
   "source": [
    "offsets = [i*5 for i in range(1, 10)]\n",
    "pca_scores = []\n",
    "jpca_scores = []\n",
    "dca_scores = []\n",
    "dmd_scores = []\n",
    "\n",
    "for offset in offsets:\n",
    "    conditions_train, conditions_test = split_train_test(X)\n",
    "    pca_score, jpca_score, dca_score, dmd_score = compare_methods_r2(conditions_train,\n",
    "                                                                     conditions_train,\n",
    "                                                                     conditions_test,\n",
    "                                                                     conditions_test,\n",
    "                                                                     offset=offset)\n",
    "    pca_scores.append(pca_score)\n",
    "    jpca_scores.append(jpca_score)\n",
    "    dca_scores.append(dca_score)\n",
    "    dmd_scores.append(dmd_score)"
   ]
  },
  {
   "cell_type": "code",
   "execution_count": 56,
   "metadata": {},
   "outputs": [
    {
     "data": {
      "image/png": "[encoded data removed]",
      "text/plain": [
       "<Figure size 432x288 with 1 Axes>"
      ]
     },
     "metadata": {
      "needs_background": "light"
     },
     "output_type": "display_data"
    }
   ],
   "source": [
    "plt.plot(offsets, pca_scores, label=\"pca\")\n",
    "plt.plot(offsets, jpca_scores, label=\"jpca\")\n",
    "plt.plot(offsets, dca_scores, label=\"dca\")\n",
    "plt.plot(offsets, dmd_scores, label=\"dmd\")\n",
    "plt.title(\"d=2\")\n",
    "plt.legend()\n",
    "plt.show()"
   ]
  },
  {
   "cell_type": "code",
   "execution_count": 58,
   "metadata": {},
   "outputs": [],
   "source": [
    "%%capture --no-display\n",
    "\n",
    "offsets = [i*5 for i in range(1, 10)]\n",
    "pca_scores = []\n",
    "jpca_scores = []\n",
    "dca_scores = []\n",
    "dmd_scores = []\n",
    "\n",
    "for offset in offsets:\n",
    "    conditions_train, conditions_test = split_train_test(X)\n",
    "    pca_score, jpca_score, dca_score, dmd_score = compare_methods_r2(conditions_train,\n",
    "                                                                     conditions_train,\n",
    "                                                                     conditions_test,\n",
    "                                                                     conditions_test,\n",
    "                                                                     d=6,\n",
    "                                                                     offset=offset)\n",
    "    pca_scores.append(pca_score)\n",
    "    jpca_scores.append(jpca_score)\n",
    "    dca_scores.append(dca_score)\n",
    "    dmd_scores.append(dmd_score)"
   ]
  },
  {
   "cell_type": "code",
   "execution_count": 59,
   "metadata": {},
   "outputs": [
    {
     "data": {
      "image/png": "[encoded data removed]",
      "text/plain": [
       "<Figure size 432x288 with 1 Axes>"
      ]
     },
     "metadata": {
      "needs_background": "light"
     },
     "output_type": "display_data"
    }
   ],
   "source": [
    "plt.plot(offsets, pca_scores, label=\"pca\")\n",
    "plt.plot(offsets, jpca_scores, label=\"jpca\")\n",
    "plt.plot(offsets, dca_scores, label=\"dca\")\n",
    "plt.plot(offsets, dmd_scores, label=\"dmd\")\n",
    "plt.title(\"d=6\")\n",
    "plt.legend()\n",
    "plt.show()"
   ]
  },
  {
   "cell_type": "code",
   "execution_count": 60,
   "metadata": {},
   "outputs": [],
   "source": [
    "%%capture --no-display\n",
    "\n",
    "offsets = [i*5 for i in range(1, 10)]\n",
    "pca_scores = []\n",
    "jpca_scores = []\n",
    "dca_scores = []\n",
    "dmd_scores = []\n",
    "\n",
    "for offset in offsets:\n",
    "    conditions_train, conditions_test = split_train_test(X)\n",
    "    pca_score, jpca_score, dca_score, dmd_score = compare_methods_r2(conditions_train,\n",
    "                                                                     conditions_train,\n",
    "                                                                     conditions_test,\n",
    "                                                                     conditions_test,\n",
    "                                                                     d=20,\n",
    "                                                                     offset=offset)\n",
    "    pca_scores.append(pca_score)\n",
    "    jpca_scores.append(jpca_score)\n",
    "    dca_scores.append(dca_score)\n",
    "    dmd_scores.append(dmd_score)"
   ]
  },
  {
   "cell_type": "code",
   "execution_count": 61,
   "metadata": {},
   "outputs": [
    {
     "data": {
      "image/png": "[encoded data removed]",
      "text/plain": [
       "<Figure size 432x288 with 1 Axes>"
      ]
     },
     "metadata": {
      "needs_background": "light"
     },
     "output_type": "display_data"
    }
   ],
   "source": [
    "plt.plot(offsets, pca_scores, label=\"pca\")\n",
    "plt.plot(offsets, jpca_scores, label=\"jpca\")\n",
    "plt.plot(offsets, dca_scores, label=\"dca\")\n",
    "plt.plot(offsets, dmd_scores, label=\"dmd\")\n",
    "plt.title(\"d=20\")\n",
    "plt.legend()\n",
    "plt.show()"
   ]
  },
  {
   "cell_type": "markdown",
   "metadata": {},
   "source": [
    "# Other methods to compare against\n",
    "DCA -> JPCA\n",
    "DMD -> JPCA"
   ]
  },
  {
   "cell_type": "code",
   "execution_count": null,
   "metadata": {},
   "outputs": [],
   "source": []
  }
 ],
 "metadata": {
  "kernelspec": {
   "display_name": "Python 3",
   "language": "python",
   "name": "python3"
  },
  "language_info": {
   "codemirror_mode": {
    "name": "ipython",
    "version": 3
   },
   "file_extension": ".py",
   "mimetype": "text/x-python",
   "name": "python",
   "nbconvert_exporter": "python",
   "pygments_lexer": "ipython3",
   "version": "3.8.1"
  }
 },
 "nbformat": 4,
 "nbformat_minor": 4
}
